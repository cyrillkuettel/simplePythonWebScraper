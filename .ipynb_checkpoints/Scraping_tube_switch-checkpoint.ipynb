{
 "cells": [
  {
   "cell_type": "code",
   "execution_count": 6,
   "metadata": {},
   "outputs": [
    {
     "name": "stdout",
     "output_type": "stream",
     "text": [
      "found 0 Urls with video\n",
      "[]\n"
     ]
    }
   ],
   "source": [
    "import requests\n",
    "import time\n",
    "from bs4 import BeautifulSoup\n",
    "\n",
    "#for testing\n",
    "invalidUrl = 'https://tube.switch.ch/videos/0671ddb3'\n",
    "validUrl = 'https://tube.switch.ch/videos/0671ddb5'\n",
    "urlBase = 'https://tube.switch.ch/videos/'\n",
    "\n",
    "\n",
    "notExistsString = 'The video you’re looking for doesn’t exist. Maybe you’ve mistyped the address or the video may have moved.'\n",
    "\n",
    "tryToScrape = [] # \n",
    "scrapedUrls = [] #final result\n",
    "\n",
    "data = requests.get(validUrl)\n",
    "soup = BeautifulSoup(data.text, 'html.parser')\n",
    "\n",
    "def createHexStrings(): # generate all url to scrape\n",
    "    for i in range(2300000500,2300000900):\n",
    "        \n",
    "        tryToScrape.append(urlBase + hex(i).split('x')[-1])\n",
    "\n",
    "\n",
    "\n",
    "def invalidUrl():\n",
    "    data = []\n",
    "    for div in soup.find_all('div', {'class': 'message'}):\n",
    "        for p in div.find_all('p'):\n",
    "            data.append(p.text)\n",
    "        \n",
    "    if notExistsString in data:\n",
    "        return 1\n",
    "    else: return 0\n",
    "    \n",
    "createHexStrings()\n",
    "\n",
    "for urls in tryToScrape:\n",
    "    data = requests.get(urls)\n",
    "    soup = BeautifulSoup(data.text, 'html.parser')\n",
    "\n",
    "    if invalidUrl() == 1:\n",
    "        continue\n",
    "    time.sleep(0.3)\n",
    "    if invalidUrl() == 0:\n",
    "        print(\"found one!\")\n",
    "        for video in soup.find_all('video'):\n",
    "            scrapedUrls.append(urls)\n",
    "\n",
    "print(\"found {len} Urls with video\".format(len=len(scrapedUrls)))\n",
    "print(scrapedUrls)  \n",
    "\n",
    "\n",
    "\n",
    "\n",
    "\n",
    "\n",
    "   \n"
   ]
  },
  {
   "cell_type": "code",
   "execution_count": null,
   "metadata": {},
   "outputs": [],
   "source": []
  }
 ],
 "metadata": {
  "kernelspec": {
   "display_name": "Python 3",
   "language": "python",
   "name": "python3"
  },
  "language_info": {
   "codemirror_mode": {
    "name": "ipython",
    "version": 3
   },
   "file_extension": ".py",
   "mimetype": "text/x-python",
   "name": "python",
   "nbconvert_exporter": "python",
   "pygments_lexer": "ipython3",
   "version": "3.7.6"
  }
 },
 "nbformat": 4,
 "nbformat_minor": 4
}
